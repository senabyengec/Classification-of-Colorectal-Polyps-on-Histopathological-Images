{
  "cells": [
    {
      "cell_type": "markdown",
      "metadata": {
        "id": "view-in-github",
        "colab_type": "text"
      },
      "source": [
        "<a href=\"https://colab.research.google.com/github/senabyengec/Classification-of-Colorectal-Polyps-on-Histopathological-Images/blob/main/improved_classification_of_colorectal_polyps_on_histopathological_images_with_ensemble_learning_and_stain_normalization.ipynb\" target=\"_parent\"><img src=\"https://colab.research.google.com/assets/colab-badge.svg\" alt=\"Open In Colab\"/></a>"
      ]
    },
    {
      "cell_type": "markdown",
      "metadata": {
        "id": "ScitaPqhKtuW"
      },
      "source": [
        "# Paper: Improved Classification of Colorectal Polyps on Histopathological Images with Ensemble Learning and Stain Normalization \n",
        "Doi:(under revision)  \n",
        "(Last edited: 05/02/2023)\n",
        "\n",
        "This notebook implements the article titled \"Improved Classification of Colorectal Polyps on Histopathological Images with Ensemble Learning and Stain Normalization\"\n",
        "\n",
        "Here an ensemble model is built to perform polyp classification on colon histopathology image. Ensemble model is composed of two base models which are variants of ConvNeXt.\n",
        "The base models are: ConvNeXt-Base and ConvNeXt-Tiny\n",
        "\n",
        "The experiments are performed on non-normalized dataset as well as Stain normalization applied datasets. The stain normalized datasets are curated by employing the StainTools library (https://staintools.readthedocs.io/en/latest/). The Stain-Net and Stain-GAN methods are implemented by using their source codes. \n",
        "\n",
        "Stain_Net: https://github.com/khtao/StainNet,\n",
        "Stain-GAN:https://github.com/xtarx/StainGAN\n",
        "\n",
        "##### Author of the code: Sena Yengec-Tasdemir"
      ]
    },
    {
      "cell_type": "markdown",
      "source": [
        "## Requirements\n",
        "\n",
        "\n",
        "*   The dataset need to be uploaded to Google Drive folder. The following paths need to be updated accordingly.\n",
        "*   Wandb is used for plots. One needs to either have a Wandb account or remove those lines of code.\n",
        "\n"
      ],
      "metadata": {
        "id": "-CDzouHHBonU"
      }
    },
    {
      "cell_type": "code",
      "execution_count": null,
      "metadata": {
        "id": "IoRSUYA9Q34Y"
      },
      "outputs": [],
      "source": [
        "from google.colab import drive\n",
        "\n"
      ]
    },
    {
      "cell_type": "code",
      "execution_count": null,
      "metadata": {
        "id": "VucEZACchGdc"
      },
      "outputs": [],
      "source": [
        "!pip install wandb\n",
        "!wandb login\n",
        "import wandb\n",
        "from wandb.keras import WandbCallback"
      ]
    },
    {
      "cell_type": "markdown",
      "metadata": {
        "id": "oYM61xrTsP5d"
      },
      "source": [
        "# Implementation of Ensemble of ConvNeXt Variants\n",
        "\n"
      ]
    },
    {
      "cell_type": "markdown",
      "metadata": {
        "id": "MfBg1C5NB3X0"
      },
      "source": [
        "<table class=\"tfo-notebook-buttons\" align=\"left\">\n",
        "  <td>\n",
        "    <a target=\"_blank\" href=\"https://www.tensorflow.org/hub/tutorials/tf2_image_retraining\"><img src=\"https://www.tensorflow.org/images/tf_logo_32px.png\" />View on TensorFlow.org</a>\n",
        "  </td>\n",
        "  <td>\n",
        "    <a target=\"_blank\" href=\"https://colab.research.google.com/github/tensorflow/hub/blob/master/examples/colab/tf2_image_retraining.ipynb\"><img src=\"https://www.tensorflow.org/images/colab_logo_32px.png\" />Run in Google Colab</a>\n",
        "  </td>\n",
        "  <td>\n",
        "    <a target=\"_blank\" href=\"https://github.com/tensorflow/hub/blob/master/examples/colab/tf2_image_retraining.ipynb\"><img src=\"https://www.tensorflow.org/images/GitHub-Mark-32px.png\" />View on GitHub</a>\n",
        "  </td>\n",
        "  <td>\n",
        "    <a href=\"https://storage.googleapis.com/tensorflow_docs/hub/examples/colab/tf2_image_retraining.ipynb\"><img src=\"https://www.tensorflow.org/images/download_logo_32px.png\" />Download notebook</a>\n",
        "  </td>\n",
        "  <td>\n",
        "    <a href=\"https://tfhub.dev/google/collections/image/1\"><img src=\"https://www.tensorflow.org/images/hub_logo_32px.png\" />See TF Hub models</a>\n",
        "  </td>\n",
        "</table>"
      ]
    },
    {
      "cell_type": "markdown",
      "metadata": {
        "id": "bL54LWCHt5q5"
      },
      "source": [
        "## Setup"
      ]
    },
    {
      "cell_type": "code",
      "execution_count": null,
      "metadata": {
        "id": "pOMjxRLCTr-l"
      },
      "outputs": [],
      "source": [
        "from google.colab import drive\n",
        "drive.mount('/content/drive')"
      ]
    },
    {
      "cell_type": "code",
      "execution_count": null,
      "metadata": {
        "id": "dlauq-4FWGZM"
      },
      "outputs": [],
      "source": [
        "import itertools\n",
        "import os\n",
        "from pathlib import Path\n",
        "import matplotlib.pylab as plt\n",
        "import numpy as np\n",
        "\n",
        "import datetime\n",
        "from tensorboard.plugins.hparams import api as hp\n",
        "import tensorflow as tf\n",
        "import tensorflow_hub as hub\n",
        "\n",
        "print(\"TF version:\", tf.__version__)\n",
        "print(\"Hub version:\", hub.__version__)\n",
        "print(\"GPU is\", \"available\" if tf.config.list_physical_devices('GPU') else \"NOT AVAILABLE\")"
      ]
    },
    {
      "cell_type": "code",
      "execution_count": null,
      "metadata": {
        "id": "VECKZOSgTwlS"
      },
      "outputs": [],
      "source": [
        "print(tf.__version__)"
      ]
    },
    {
      "cell_type": "markdown",
      "metadata": {
        "id": "mmaHHH7Pvmth"
      },
      "source": [
        "## Select the TF2 SavedModel module to use\n"
      ]
    },
    {
      "cell_type": "code",
      "execution_count": null,
      "metadata": {
        "colab": {
          "base_uri": "https://localhost:8080/"
        },
        "id": "FlsEcKVeuCnf",
        "outputId": "0fbe6a00-775c-46fc-d43f-2474dfc9e641"
      },
      "outputs": [
        {
          "output_type": "stream",
          "name": "stdout",
          "text": [
            "Selected model: convnext_base_1k_384 : https://tfhub.dev/sayakpaul/convnext_base_1k_224_fe/1\n",
            "Input size (224, 224)\n"
          ]
        }
      ],
      "source": [
        "model_name = \"convnext_tiny\" # @param [\"convnext_large_21k_224\",\"convnext_large_1k\",'convnext_tiny','convnext_small', 'convnext_base_1k_384','convnext_large_384', 'convnext_base_21k_ft_224','convnext_base_21k_ft_384','convnext_base_21k_224']\n",
        "\n",
        "model_handle_map = {\n",
        "  \"convnext_tiny\":\"https://tfhub.dev/sayakpaul/convnext_tiny_1k_224_fe/1\",\n",
        "  \"convnext_small\": \"https://tfhub.dev/sayakpaul/convnext_small_1k_224_fe/1\",\n",
        "  \"convnext_base_1k_384\":\"https://tfhub.dev/sayakpaul/convnext_base_1k_224_fe/1\",\n",
        "  \"convnext_large_384\":\"https://tfhub.dev/sayakpaul/convnext_large_1k_224_fe/1\",\n",
        "  \"convnext_base_21k_ft_224\":\"https://tfhub.dev/sayakpaul/convnext_base_21k_1k_224_fe/1\",\n",
        "  \"convnext_base_21k_ft_384\":\"https://tfhub.dev/sayakpaul/convnext_base_21k_1k_224_fe/1\",\n",
        "  \"convnext_base_21k_224\":\"https://tfhub.dev/sayakpaul/convnext_base_21k_224_fe/1\",\n",
        "  \"convnext_large_1k\":\"https://tfhub.dev/sayakpaul/convnext_large_1k_224_fe/1\",\n",
        "  \"convnext_large_21k_224\": \"https://tfhub.dev/sayakpaul/convnext_large_21k_224/1\"\n",
        "\n",
        "}\n",
        "\n",
        "model_image_size_map = {\n",
        "  \"convnext\":224,\n",
        "  \"convnext_small\":224,\n",
        "  \"convnext_base_1k_224\":224,\n",
        "  \"convnext_large_224\":224,\n",
        "  \"convnext_base_21k_ft_224\":224,\n",
        "  \"convnext_base_21k_ft_224\":224,\n",
        "  \"convnext_base_21k_224\":224,\n",
        "  \"convnext_large_1k\":224,\n",
        "  \"convnext_large_21k_224\":224,\n",
        "\n",
        "}\n",
        "\n",
        "pixels = model_image_size_map.get(model_name, 224)\n",
        "model_handle = model_handle_map.get(model_name)\n",
        "#model_handle = \"https://tfhub.dev/sayakpaul/convnext_tiny_1k_224/1\"\n",
        "print(f\"Selected model: {model_name} : {model_handle}\")\n",
        "\n",
        "IMAGE_SIZE = (pixels, pixels)\n",
        "print(f\"Input size {IMAGE_SIZE}\")\n",
        "\n",
        "BATCH_SIZE = 16#@param {type:\"integer\"}\n",
        "#ViT 224x224 and the range should be -1,1 instead of 0,1"
      ]
    },
    {
      "cell_type": "markdown",
      "metadata": {
        "id": "yTY8qzyYv3vl"
      },
      "source": [
        "## Choose dataset to work with\n",
        "\n",
        "In here, we are experimenting on the same dataset with different normalization methods."
      ]
    },
    {
      "cell_type": "markdown",
      "source": [
        "The structure of the Datasets: \n",
        "\n",
        "    path/to/image_dir/\n",
        "    split_name/  # Ex: 'train'\n",
        "    label1/  # Ex: 'adenom' or 'nonAdenom'\n",
        "      xxx.png\n",
        "      xxy.png\n",
        "      xxz.png\n",
        "    label2/\n",
        "      xxx.png\n",
        "      xxy.png\n",
        "      xxz.png\n",
        "    split_name/  # Ex: 'val'\n",
        "    ...\n",
        "    split_name/  # Ex: 'test'\n",
        "    ..."
      ],
      "metadata": {
        "id": "iAXeEqvZnyEb"
      }
    },
    {
      "cell_type": "code",
      "execution_count": null,
      "metadata": {
        "id": "wnyrtaSEdeM0"
      },
      "outputs": [],
      "source": [
        "dataset_name = \"vanilla\" # @param [\"public_multi\",'clahe_reinhard','clahe','stain-net','public', 'vanilla', 'stain-gan', 'reinhard', 'macenko', 'vahande']\n",
        "\n",
        "\n",
        "dateset_handle_map = {\n",
        "  \"stain-net\": \"/content/drive/MyDrive/PHD/labeled_stainet_normalized_train_test_val/\",\n",
        "  \"public\" : \"/content/drive/MyDrive/PHD/patho_public/adenom_no_adenom_balanced/\",\n",
        "  \"stain-gan\": \"/content/drive/MyDrive/PHD/labeled_staingan_normalized_train_test_val/\",\n",
        "  \"reinhard\": \"/content/drive/MyDrive/PHD/labeled_reinhard_normalized_train_test_val/\",\n",
        "  \"macenko\": \"/content/drive/MyDrive/PHD/labeled_macenko_normalized_train_test_val/\",\n",
        "  \"vahande\": \"/content/drive/MyDrive/PHD/labeled_vahande_normalized_train_test_val/\",\n",
        "  \"vanilla\" : \"/content/drive/MyDrive/PHD/histo_images_labeled_train_val/\",\n",
        "  \"clahe\": \"/content/drive/MyDrive/PHD/labeled_clahe_normalized_train_test_val/\",\n",
        "  \"clahe_reinhard\":\"/content/drive/MyDrive/PHD/labeled_clahe_reinhard_normalized_train_test_val\",\n",
        "}\n",
        "dataset_handle = dateset_handle_map.get(dataset_name)"
      ]
    },
    {
      "cell_type": "code",
      "execution_count": null,
      "metadata": {
        "id": "umB5tswsfTEQ"
      },
      "outputs": [],
      "source": [
        "path_data = Path(dataset_handle)\n",
        "dest = path_data\n",
        "data_dir = path_data\n",
        "def build_dataset(subset, data_dir):\n",
        "  return tf.keras.preprocessing.image_dataset_from_directory(\n",
        "      data_dir,\n",
        "      label_mode=\"categorical\",\n",
        "      # Seed needs to provided when using validation_split and shuffle = True.\n",
        "      # A fixed seed is used so that the validation set is stable across runs.\n",
        "      seed=123,\n",
        "      image_size=IMAGE_SIZE,\n",
        "      batch_size=1)\n",
        "train_ds_path = os.path.join(data_dir, \"train\")\n",
        "train_ds = build_dataset(\"training\", train_ds_path)\n",
        "class_names = tuple(train_ds.class_names)\n",
        "train_size = train_ds.cardinality().numpy()\n",
        "train_ds = train_ds.unbatch().batch(BATCH_SIZE)\n",
        "train_ds = train_ds.repeat()\n",
        "#For vit rescale between -1,1 for cnn 0,1, ViT: scale=1./127.5, offset=-1\n",
        "normalization_layer = tf.keras.layers.Rescaling(scale=1./255) #[0,1] normalization\n",
        "preprocessing_model = tf.keras.Sequential([normalization_layer])\n",
        "do_data_augmentation = True #@param {type:\"boolean\"}\n",
        "if do_data_augmentation:\n",
        "  preprocessing_model.add(\n",
        "      tf.keras.layers.RandomRotation(40))\n",
        "  preprocessing_model.add(\n",
        "      tf.keras.layers.RandomTranslation(0, 0.2))\n",
        "  preprocessing_model.add(\n",
        "      tf.keras.layers.RandomTranslation(0.2, 0))\n",
        "  preprocessing_model.add(\n",
        "      tf.keras.layers.RandomZoom(0.2, 0.2))\n",
        "  preprocessing_model.add(\n",
        "      tf.keras.layers.RandomFlip(mode=\"horizontal\"))\n",
        "\n",
        "train_ds = train_ds.map(lambda images, labels:\n",
        "                        (preprocessing_model(images), labels))\n",
        "val_ds_path= os.path.join(data_dir, 'val')\n",
        "val_ds_1 = build_dataset(\"validation\",val_ds_path)\n",
        "valid_size = val_ds_1.cardinality().numpy()\n",
        "val_ds_1 = val_ds_1.unbatch().batch(BATCH_SIZE)\n",
        "val_ds = val_ds_1.map(lambda images, labels:\n",
        "                    (normalization_layer(images), labels))\n",
        "\n",
        "test_ds_path= os.path.join(data_dir, 'test')\n",
        "test_ds_1 = build_dataset(\"test\",val_ds_path)\n",
        "test_size = test_ds_1.cardinality().numpy()\n",
        "test_ds_1 = test_ds_1.unbatch().batch(BATCH_SIZE)\n",
        "test_ds = test_ds_1.map(lambda images, labels:\n",
        "                    (normalization_layer(images), labels))\n",
        "\n",
        "     "
      ]
    },
    {
      "cell_type": "code",
      "execution_count": null,
      "metadata": {
        "id": "8Pfi-Q5tal8t"
      },
      "outputs": [],
      "source": [
        "import matplotlib.pylab as plt\n",
        "import numpy as np\n",
        "x, y = next(iter(val_ds))\n",
        "img = x[2, :, :, :]\n",
        "\n",
        "plt.imshow(img)\n",
        "plt.show()\n"
      ]
    },
    {
      "cell_type": "markdown",
      "metadata": {
        "id": "FS_gVStowW3G"
      },
      "source": [
        "## Defining the model\n",
        "\n",
        "Define two base models to ensemble\n"
      ]
    },
    {
      "cell_type": "code",
      "execution_count": null,
      "metadata": {
        "id": "qOIdbl0qF4Q9"
      },
      "outputs": [],
      "source": [
        "model_handle2=\"https://tfhub.dev/sayakpaul/convnext_tiny_1k_224_fe/1\" \n",
        "model_handle3=\"https://tfhub.dev/sayakpaul/convnext_base_1k_224_fe/1\" "
      ]
    },
    {
      "cell_type": "code",
      "execution_count": null,
      "metadata": {
        "id": "RaJW3XrPyFiF"
      },
      "outputs": [],
      "source": [
        "do_fine_tuning = True #@param {type:\"boolean\"}"
      ]
    },
    {
      "cell_type": "code",
      "source": [
        "wandb.config = {\n",
        "  \"learning_rate\": 0.001,\n",
        "  \"dataset\" : dataset_name,\n",
        "  \"model_architecture\" : model_name,\n",
        "  \"fine_tune\" : do_fine_tuning,\n",
        "  \"epochs\": 50,\n",
        "  \"batch_size\": BATCH_SIZE\n",
        "}\n",
        "wandb.init(config=wandb.config) \n"
      ],
      "metadata": {
        "id": "628_IZ5f5hlq"
      },
      "execution_count": null,
      "outputs": []
    },
    {
      "cell_type": "markdown",
      "source": [
        "## Build base models"
      ],
      "metadata": {
        "id": "NYTtn4KZkEi2"
      }
    },
    {
      "cell_type": "code",
      "execution_count": null,
      "metadata": {
        "colab": {
          "base_uri": "https://localhost:8080/",
          "height": 233
        },
        "id": "-IHYR951HmIb",
        "outputId": "0448851f-c516-410e-9437-886b7259a9dc"
      },
      "outputs": [
        {
          "output_type": "stream",
          "name": "stdout",
          "text": [
            "Building model with https://tfhub.dev/sayakpaul/convnext_base_1k_224_fe/1\n"
          ]
        },
        {
          "output_type": "execute_result",
          "data": {
            "text/plain": [
              "\"\\nmodel3 = tf.keras.Sequential([\\n    # Explicitly define the input shape so the model can be properly\\n    # loaded by the TFLiteConverter\\n    tf.keras.layers.InputLayer(input_shape=IMAGE_SIZE + (3,)),\\n    hub.KerasLayer(model_handle3, trainable=do_fine_tuning),\\n    tf.keras.layers.Dropout(rate=0.0),\\n    tf.keras.layers.Dense(len(class_names),\\n                          kernel_regularizer=tf.keras.regularizers.l2(0.0001))\\n])\\n\\nmodel3.compile(\\n  optimizer=tf.keras.optimizers.SGD(learning_rate=0.001, momentum=0.9, nesterov=False,\\n  name='SGD'), \\n  loss=tf.keras.losses.CategoricalCrossentropy(from_logits=True, label_smoothing=0.1),\\n  metrics=['accuracy'])\\n\""
            ],
            "application/vnd.google.colaboratory.intrinsic+json": {
              "type": "string"
            }
          },
          "metadata": {},
          "execution_count": 26
        }
      ],
      "source": [
        "print(\"Building model with\", model_handle)\n",
        "model = tf.keras.Sequential([\n",
        "    # Explicitly define the input shape so the model can be properly\n",
        "    # loaded by the TFLiteConverter\n",
        "    tf.keras.layers.InputLayer(input_shape=IMAGE_SIZE + (3,)),\n",
        "    hub.KerasLayer(model_handle, trainable=do_fine_tuning),\n",
        "    tf.keras.layers.Dropout(rate=0.0),\n",
        "    tf.keras.layers.Dense(len(class_names),\n",
        "                          kernel_regularizer=tf.keras.regularizers.l2(0.0001))\n",
        "])\n",
        "model.compile(\n",
        "  optimizer=tf.keras.optimizers.SGD(learning_rate=0.001, momentum=0.9, nesterov=False,\n",
        "  name='SGD'), \n",
        "  loss=tf.keras.losses.CategoricalCrossentropy(from_logits=True, label_smoothing=0.1),\n",
        "  metrics=['accuracy'])\n",
        "model2 = tf.keras.Sequential([\n",
        "    # Explicitly define the input shape so the model can be properly\n",
        "    # loaded by the TFLiteConverter\n",
        "    tf.keras.layers.InputLayer(input_shape=IMAGE_SIZE + (3,)),\n",
        "    hub.KerasLayer(model_handle2, trainable=do_fine_tuning),\n",
        "    tf.keras.layers.Dropout(rate=0.0),\n",
        "    tf.keras.layers.Dense(len(class_names),\n",
        "                          kernel_regularizer=tf.keras.regularizers.l2(0.0001))\n",
        "])\n",
        "model2.compile(\n",
        "  optimizer=tf.keras.optimizers.SGD(learning_rate=0.001, momentum=0.9, nesterov=False,\n",
        "  name='SGD'), \n",
        "  loss=tf.keras.losses.CategoricalCrossentropy(from_logits=True, label_smoothing=0.1),\n",
        "  metrics=['accuracy'])\n",
        "\n"
      ]
    },
    {
      "cell_type": "code",
      "execution_count": null,
      "metadata": {
        "colab": {
          "base_uri": "https://localhost:8080/"
        },
        "id": "h3DbXInRJ4PA",
        "outputId": "67c07c08-2671-461f-e43d-8ee34c024007"
      },
      "outputs": [
        {
          "output_type": "stream",
          "name": "stdout",
          "text": [
            "Model: \"model\"\n",
            "__________________________________________________________________________________________________\n",
            " Layer (type)                   Output Shape         Param #     Connected to                     \n",
            "==================================================================================================\n",
            " input_8 (InputLayer)           [(None, 224, 224, 3  0           []                               \n",
            "                                )]                                                                \n",
            "                                                                                                  \n",
            " sequential_1 (Sequential)      (None, 2)            87568514    ['input_8[0][0]']                \n",
            "                                                                                                  \n",
            " sequential_2 (Sequential)      (None, 2)            27821666    ['input_8[0][0]']                \n",
            "                                                                                                  \n",
            " average (Average)              (None, 2)            0           ['sequential_1[0][0]',           \n",
            "                                                                  'sequential_2[0][0]']           \n",
            "                                                                                                  \n",
            "==================================================================================================\n",
            "Total params: 115,390,180\n",
            "Trainable params: 115,390,180\n",
            "Non-trainable params: 0\n",
            "__________________________________________________________________________________________________\n"
          ]
        }
      ],
      "source": [
        "models = [model, model2] #ConvNext small and tiny\n",
        "model_input = tf.keras.Input(shape=(224, 224, 3))\n",
        "model_outputs = [model(model_input) for model in models]\n",
        "ensemble_output = tf.keras.layers.Average()(model_outputs)\n",
        "ensemble_model = tf.keras.Model(inputs=model_input, outputs=ensemble_output)\n",
        "ensemble_model.build((None,)+IMAGE_SIZE+(3,))\n",
        "ensemble_model.summary()"
      ]
    },
    {
      "cell_type": "markdown",
      "source": [
        "## See the layers of the models"
      ],
      "metadata": {
        "id": "xOYGebvFkQh6"
      }
    },
    {
      "cell_type": "code",
      "source": [
        "s1 = ensemble_model.get_layer(\"sequential_1\")\n",
        "s1.summary()\n",
        "s2 = ensemble_model.get_layer(\"sequential_2\")\n",
        "s2.summary()\n",
        "\n",
        "layers = ensemble_model.weights\n",
        "[ layers[i].name for i in range( len(layers) ) ]"
      ],
      "metadata": {
        "colab": {
          "base_uri": "https://localhost:8080/"
        },
        "id": "A3T3mK-2RIRg",
        "outputId": "13c58dc1-5868-4bdc-be60-338b573400c2"
      },
      "execution_count": null,
      "outputs": [
        {
          "output_type": "stream",
          "name": "stdout",
          "text": [
            "Model: \"sequential_1\"\n",
            "_________________________________________________________________\n",
            " Layer (type)                Output Shape              Param #   \n",
            "=================================================================\n",
            " keras_layer_9 (KerasLayer)  (None, 1024)              87566464  \n",
            "                                                                 \n",
            " dropout (Dropout)           (None, 1024)              0         \n",
            "                                                                 \n",
            " dense (Dense)               (None, 2)                 2050      \n",
            "                                                                 \n",
            "=================================================================\n",
            "Total params: 87,568,514\n",
            "Trainable params: 87,568,514\n",
            "Non-trainable params: 0\n",
            "_________________________________________________________________\n",
            "Model: \"sequential_2\"\n",
            "_________________________________________________________________\n",
            " Layer (type)                Output Shape              Param #   \n",
            "=================================================================\n",
            " keras_layer_10 (KerasLayer)  (None, 768)              27820128  \n",
            "                                                                 \n",
            " dropout_1 (Dropout)         (None, 768)               0         \n",
            "                                                                 \n",
            " dense_1 (Dense)             (None, 2)                 1538      \n",
            "                                                                 \n",
            "=================================================================\n",
            "Total params: 27,821,666\n",
            "Trainable params: 27,821,666\n",
            "Non-trainable params: 0\n",
            "_________________________________________________________________\n"
          ]
        },
        {
          "output_type": "execute_result",
          "data": {
            "text/plain": [
              "['conv2d/kernel:0',\n",
              " 'conv2d/bias:0',\n",
              " 'layer_normalization/gamma:0',\n",
              " 'layer_normalization/beta:0',\n",
              " 'convnext_block_0_0/conv2d_4/kernel:0',\n",
              " 'convnext_block_0_0/conv2d_4/bias:0',\n",
              " 'convnext_block_0_0/layer_normalization_4/gamma:0',\n",
              " 'convnext_block_0_0/layer_normalization_4/beta:0',\n",
              " 'convnext_block_0_0/dense/kernel:0',\n",
              " 'convnext_block_0_0/dense/bias:0',\n",
              " 'convnext_block_0_0/dense_1/kernel:0',\n",
              " 'convnext_block_0_0/dense_1/bias:0',\n",
              " 'Variable:0',\n",
              " 'convnext_block_0_1/conv2d_5/kernel:0',\n",
              " 'convnext_block_0_1/conv2d_5/bias:0',\n",
              " 'convnext_block_0_1/layer_normalization_5/gamma:0',\n",
              " 'convnext_block_0_1/layer_normalization_5/beta:0',\n",
              " 'convnext_block_0_1/dense_2/kernel:0',\n",
              " 'convnext_block_0_1/dense_2/bias:0',\n",
              " 'convnext_block_0_1/dense_3/kernel:0',\n",
              " 'convnext_block_0_1/dense_3/bias:0',\n",
              " 'Variable:0',\n",
              " 'convnext_block_0_2/conv2d_6/kernel:0',\n",
              " 'convnext_block_0_2/conv2d_6/bias:0',\n",
              " 'convnext_block_0_2/layer_normalization_6/gamma:0',\n",
              " 'convnext_block_0_2/layer_normalization_6/beta:0',\n",
              " 'convnext_block_0_2/dense_4/kernel:0',\n",
              " 'convnext_block_0_2/dense_4/bias:0',\n",
              " 'convnext_block_0_2/dense_5/kernel:0',\n",
              " 'convnext_block_0_2/dense_5/bias:0',\n",
              " 'Variable:0',\n",
              " 'layer_normalization_1/gamma:0',\n",
              " 'layer_normalization_1/beta:0',\n",
              " 'conv2d_1/kernel:0',\n",
              " 'conv2d_1/bias:0',\n",
              " 'convnext_block_1_0/conv2d_7/kernel:0',\n",
              " 'convnext_block_1_0/conv2d_7/bias:0',\n",
              " 'convnext_block_1_0/layer_normalization_7/gamma:0',\n",
              " 'convnext_block_1_0/layer_normalization_7/beta:0',\n",
              " 'convnext_block_1_0/dense_6/kernel:0',\n",
              " 'convnext_block_1_0/dense_6/bias:0',\n",
              " 'convnext_block_1_0/dense_7/kernel:0',\n",
              " 'convnext_block_1_0/dense_7/bias:0',\n",
              " 'Variable:0',\n",
              " 'convnext_block_1_1/conv2d_8/kernel:0',\n",
              " 'convnext_block_1_1/conv2d_8/bias:0',\n",
              " 'convnext_block_1_1/layer_normalization_8/gamma:0',\n",
              " 'convnext_block_1_1/layer_normalization_8/beta:0',\n",
              " 'convnext_block_1_1/dense_8/kernel:0',\n",
              " 'convnext_block_1_1/dense_8/bias:0',\n",
              " 'convnext_block_1_1/dense_9/kernel:0',\n",
              " 'convnext_block_1_1/dense_9/bias:0',\n",
              " 'Variable:0',\n",
              " 'convnext_block_1_2/conv2d_9/kernel:0',\n",
              " 'convnext_block_1_2/conv2d_9/bias:0',\n",
              " 'convnext_block_1_2/layer_normalization_9/gamma:0',\n",
              " 'convnext_block_1_2/layer_normalization_9/beta:0',\n",
              " 'convnext_block_1_2/dense_10/kernel:0',\n",
              " 'convnext_block_1_2/dense_10/bias:0',\n",
              " 'convnext_block_1_2/dense_11/kernel:0',\n",
              " 'convnext_block_1_2/dense_11/bias:0',\n",
              " 'Variable:0',\n",
              " 'layer_normalization_2/gamma:0',\n",
              " 'layer_normalization_2/beta:0',\n",
              " 'conv2d_2/kernel:0',\n",
              " 'conv2d_2/bias:0',\n",
              " 'convnext_block_2_0/conv2d_10/kernel:0',\n",
              " 'convnext_block_2_0/conv2d_10/bias:0',\n",
              " 'convnext_block_2_0/layer_normalization_10/gamma:0',\n",
              " 'convnext_block_2_0/layer_normalization_10/beta:0',\n",
              " 'convnext_block_2_0/dense_12/kernel:0',\n",
              " 'convnext_block_2_0/dense_12/bias:0',\n",
              " 'convnext_block_2_0/dense_13/kernel:0',\n",
              " 'convnext_block_2_0/dense_13/bias:0',\n",
              " 'Variable:0',\n",
              " 'convnext_block_2_1/conv2d_11/kernel:0',\n",
              " 'convnext_block_2_1/conv2d_11/bias:0',\n",
              " 'convnext_block_2_1/layer_normalization_11/gamma:0',\n",
              " 'convnext_block_2_1/layer_normalization_11/beta:0',\n",
              " 'convnext_block_2_1/dense_14/kernel:0',\n",
              " 'convnext_block_2_1/dense_14/bias:0',\n",
              " 'convnext_block_2_1/dense_15/kernel:0',\n",
              " 'convnext_block_2_1/dense_15/bias:0',\n",
              " 'Variable:0',\n",
              " 'convnext_block_2_2/conv2d_12/kernel:0',\n",
              " 'convnext_block_2_2/conv2d_12/bias:0',\n",
              " 'convnext_block_2_2/layer_normalization_12/gamma:0',\n",
              " 'convnext_block_2_2/layer_normalization_12/beta:0',\n",
              " 'convnext_block_2_2/dense_16/kernel:0',\n",
              " 'convnext_block_2_2/dense_16/bias:0',\n",
              " 'convnext_block_2_2/dense_17/kernel:0',\n",
              " 'convnext_block_2_2/dense_17/bias:0',\n",
              " 'Variable:0',\n",
              " 'convnext_block_2_3/conv2d_13/kernel:0',\n",
              " 'convnext_block_2_3/conv2d_13/bias:0',\n",
              " 'convnext_block_2_3/layer_normalization_13/gamma:0',\n",
              " 'convnext_block_2_3/layer_normalization_13/beta:0',\n",
              " 'convnext_block_2_3/dense_18/kernel:0',\n",
              " 'convnext_block_2_3/dense_18/bias:0',\n",
              " 'convnext_block_2_3/dense_19/kernel:0',\n",
              " 'convnext_block_2_3/dense_19/bias:0',\n",
              " 'Variable:0',\n",
              " 'convnext_block_2_4/conv2d_14/kernel:0',\n",
              " 'convnext_block_2_4/conv2d_14/bias:0',\n",
              " 'convnext_block_2_4/layer_normalization_14/gamma:0',\n",
              " 'convnext_block_2_4/layer_normalization_14/beta:0',\n",
              " 'convnext_block_2_4/dense_20/kernel:0',\n",
              " 'convnext_block_2_4/dense_20/bias:0',\n",
              " 'convnext_block_2_4/dense_21/kernel:0',\n",
              " 'convnext_block_2_4/dense_21/bias:0',\n",
              " 'Variable:0',\n",
              " 'convnext_block_2_5/conv2d_15/kernel:0',\n",
              " 'convnext_block_2_5/conv2d_15/bias:0',\n",
              " 'convnext_block_2_5/layer_normalization_15/gamma:0',\n",
              " 'convnext_block_2_5/layer_normalization_15/beta:0',\n",
              " 'convnext_block_2_5/dense_22/kernel:0',\n",
              " 'convnext_block_2_5/dense_22/bias:0',\n",
              " 'convnext_block_2_5/dense_23/kernel:0',\n",
              " 'convnext_block_2_5/dense_23/bias:0',\n",
              " 'Variable:0',\n",
              " 'convnext_block_2_6/conv2d_16/kernel:0',\n",
              " 'convnext_block_2_6/conv2d_16/bias:0',\n",
              " 'convnext_block_2_6/layer_normalization_16/gamma:0',\n",
              " 'convnext_block_2_6/layer_normalization_16/beta:0',\n",
              " 'convnext_block_2_6/dense_24/kernel:0',\n",
              " 'convnext_block_2_6/dense_24/bias:0',\n",
              " 'convnext_block_2_6/dense_25/kernel:0',\n",
              " 'convnext_block_2_6/dense_25/bias:0',\n",
              " 'Variable:0',\n",
              " 'convnext_block_2_7/conv2d_17/kernel:0',\n",
              " 'convnext_block_2_7/conv2d_17/bias:0',\n",
              " 'convnext_block_2_7/layer_normalization_17/gamma:0',\n",
              " 'convnext_block_2_7/layer_normalization_17/beta:0',\n",
              " 'convnext_block_2_7/dense_26/kernel:0',\n",
              " 'convnext_block_2_7/dense_26/bias:0',\n",
              " 'convnext_block_2_7/dense_27/kernel:0',\n",
              " 'convnext_block_2_7/dense_27/bias:0',\n",
              " 'Variable:0',\n",
              " 'convnext_block_2_8/conv2d_18/kernel:0',\n",
              " 'convnext_block_2_8/conv2d_18/bias:0',\n",
              " 'convnext_block_2_8/layer_normalization_18/gamma:0',\n",
              " 'convnext_block_2_8/layer_normalization_18/beta:0',\n",
              " 'convnext_block_2_8/dense_28/kernel:0',\n",
              " 'convnext_block_2_8/dense_28/bias:0',\n",
              " 'convnext_block_2_8/dense_29/kernel:0',\n",
              " 'convnext_block_2_8/dense_29/bias:0',\n",
              " 'Variable:0',\n",
              " 'convnext_block_2_9/conv2d_19/kernel:0',\n",
              " 'convnext_block_2_9/conv2d_19/bias:0',\n",
              " 'convnext_block_2_9/layer_normalization_19/gamma:0',\n",
              " 'convnext_block_2_9/layer_normalization_19/beta:0',\n",
              " 'convnext_block_2_9/dense_30/kernel:0',\n",
              " 'convnext_block_2_9/dense_30/bias:0',\n",
              " 'convnext_block_2_9/dense_31/kernel:0',\n",
              " 'convnext_block_2_9/dense_31/bias:0',\n",
              " 'Variable:0',\n",
              " 'convnext_block_2_10/conv2d_20/kernel:0',\n",
              " 'convnext_block_2_10/conv2d_20/bias:0',\n",
              " 'convnext_block_2_10/layer_normalization_20/gamma:0',\n",
              " 'convnext_block_2_10/layer_normalization_20/beta:0',\n",
              " 'convnext_block_2_10/dense_32/kernel:0',\n",
              " 'convnext_block_2_10/dense_32/bias:0',\n",
              " 'convnext_block_2_10/dense_33/kernel:0',\n",
              " 'convnext_block_2_10/dense_33/bias:0',\n",
              " 'Variable:0',\n",
              " 'convnext_block_2_11/conv2d_21/kernel:0',\n",
              " 'convnext_block_2_11/conv2d_21/bias:0',\n",
              " 'convnext_block_2_11/layer_normalization_21/gamma:0',\n",
              " 'convnext_block_2_11/layer_normalization_21/beta:0',\n",
              " 'convnext_block_2_11/dense_34/kernel:0',\n",
              " 'convnext_block_2_11/dense_34/bias:0',\n",
              " 'convnext_block_2_11/dense_35/kernel:0',\n",
              " 'convnext_block_2_11/dense_35/bias:0',\n",
              " 'Variable:0',\n",
              " 'convnext_block_2_12/conv2d_22/kernel:0',\n",
              " 'convnext_block_2_12/conv2d_22/bias:0',\n",
              " 'convnext_block_2_12/layer_normalization_22/gamma:0',\n",
              " 'convnext_block_2_12/layer_normalization_22/beta:0',\n",
              " 'convnext_block_2_12/dense_36/kernel:0',\n",
              " 'convnext_block_2_12/dense_36/bias:0',\n",
              " 'convnext_block_2_12/dense_37/kernel:0',\n",
              " 'convnext_block_2_12/dense_37/bias:0',\n",
              " 'Variable:0',\n",
              " 'convnext_block_2_13/conv2d_23/kernel:0',\n",
              " 'convnext_block_2_13/conv2d_23/bias:0',\n",
              " 'convnext_block_2_13/layer_normalization_23/gamma:0',\n",
              " 'convnext_block_2_13/layer_normalization_23/beta:0',\n",
              " 'convnext_block_2_13/dense_38/kernel:0',\n",
              " 'convnext_block_2_13/dense_38/bias:0',\n",
              " 'convnext_block_2_13/dense_39/kernel:0',\n",
              " 'convnext_block_2_13/dense_39/bias:0',\n",
              " 'Variable:0',\n",
              " 'convnext_block_2_14/conv2d_24/kernel:0',\n",
              " 'convnext_block_2_14/conv2d_24/bias:0',\n",
              " 'convnext_block_2_14/layer_normalization_24/gamma:0',\n",
              " 'convnext_block_2_14/layer_normalization_24/beta:0',\n",
              " 'convnext_block_2_14/dense_40/kernel:0',\n",
              " 'convnext_block_2_14/dense_40/bias:0',\n",
              " 'convnext_block_2_14/dense_41/kernel:0',\n",
              " 'convnext_block_2_14/dense_41/bias:0',\n",
              " 'Variable:0',\n",
              " 'convnext_block_2_15/conv2d_25/kernel:0',\n",
              " 'convnext_block_2_15/conv2d_25/bias:0',\n",
              " 'convnext_block_2_15/layer_normalization_25/gamma:0',\n",
              " 'convnext_block_2_15/layer_normalization_25/beta:0',\n",
              " 'convnext_block_2_15/dense_42/kernel:0',\n",
              " 'convnext_block_2_15/dense_42/bias:0',\n",
              " 'convnext_block_2_15/dense_43/kernel:0',\n",
              " 'convnext_block_2_15/dense_43/bias:0',\n",
              " 'Variable:0',\n",
              " 'convnext_block_2_16/conv2d_26/kernel:0',\n",
              " 'convnext_block_2_16/conv2d_26/bias:0',\n",
              " 'convnext_block_2_16/layer_normalization_26/gamma:0',\n",
              " 'convnext_block_2_16/layer_normalization_26/beta:0',\n",
              " 'convnext_block_2_16/dense_44/kernel:0',\n",
              " 'convnext_block_2_16/dense_44/bias:0',\n",
              " 'convnext_block_2_16/dense_45/kernel:0',\n",
              " 'convnext_block_2_16/dense_45/bias:0',\n",
              " 'Variable:0',\n",
              " 'convnext_block_2_17/conv2d_27/kernel:0',\n",
              " 'convnext_block_2_17/conv2d_27/bias:0',\n",
              " 'convnext_block_2_17/layer_normalization_27/gamma:0',\n",
              " 'convnext_block_2_17/layer_normalization_27/beta:0',\n",
              " 'convnext_block_2_17/dense_46/kernel:0',\n",
              " 'convnext_block_2_17/dense_46/bias:0',\n",
              " 'convnext_block_2_17/dense_47/kernel:0',\n",
              " 'convnext_block_2_17/dense_47/bias:0',\n",
              " 'Variable:0',\n",
              " 'convnext_block_2_18/conv2d_28/kernel:0',\n",
              " 'convnext_block_2_18/conv2d_28/bias:0',\n",
              " 'convnext_block_2_18/layer_normalization_28/gamma:0',\n",
              " 'convnext_block_2_18/layer_normalization_28/beta:0',\n",
              " 'convnext_block_2_18/dense_48/kernel:0',\n",
              " 'convnext_block_2_18/dense_48/bias:0',\n",
              " 'convnext_block_2_18/dense_49/kernel:0',\n",
              " 'convnext_block_2_18/dense_49/bias:0',\n",
              " 'Variable:0',\n",
              " 'convnext_block_2_19/conv2d_29/kernel:0',\n",
              " 'convnext_block_2_19/conv2d_29/bias:0',\n",
              " 'convnext_block_2_19/layer_normalization_29/gamma:0',\n",
              " 'convnext_block_2_19/layer_normalization_29/beta:0',\n",
              " 'convnext_block_2_19/dense_50/kernel:0',\n",
              " 'convnext_block_2_19/dense_50/bias:0',\n",
              " 'convnext_block_2_19/dense_51/kernel:0',\n",
              " 'convnext_block_2_19/dense_51/bias:0',\n",
              " 'Variable:0',\n",
              " 'convnext_block_2_20/conv2d_30/kernel:0',\n",
              " 'convnext_block_2_20/conv2d_30/bias:0',\n",
              " 'convnext_block_2_20/layer_normalization_30/gamma:0',\n",
              " 'convnext_block_2_20/layer_normalization_30/beta:0',\n",
              " 'convnext_block_2_20/dense_52/kernel:0',\n",
              " 'convnext_block_2_20/dense_52/bias:0',\n",
              " 'convnext_block_2_20/dense_53/kernel:0',\n",
              " 'convnext_block_2_20/dense_53/bias:0',\n",
              " 'Variable:0',\n",
              " 'convnext_block_2_21/conv2d_31/kernel:0',\n",
              " 'convnext_block_2_21/conv2d_31/bias:0',\n",
              " 'convnext_block_2_21/layer_normalization_31/gamma:0',\n",
              " 'convnext_block_2_21/layer_normalization_31/beta:0',\n",
              " 'convnext_block_2_21/dense_54/kernel:0',\n",
              " 'convnext_block_2_21/dense_54/bias:0',\n",
              " 'convnext_block_2_21/dense_55/kernel:0',\n",
              " 'convnext_block_2_21/dense_55/bias:0',\n",
              " 'Variable:0',\n",
              " 'convnext_block_2_22/conv2d_32/kernel:0',\n",
              " 'convnext_block_2_22/conv2d_32/bias:0',\n",
              " 'convnext_block_2_22/layer_normalization_32/gamma:0',\n",
              " 'convnext_block_2_22/layer_normalization_32/beta:0',\n",
              " 'convnext_block_2_22/dense_56/kernel:0',\n",
              " 'convnext_block_2_22/dense_56/bias:0',\n",
              " 'convnext_block_2_22/dense_57/kernel:0',\n",
              " 'convnext_block_2_22/dense_57/bias:0',\n",
              " 'Variable:0',\n",
              " 'convnext_block_2_23/conv2d_33/kernel:0',\n",
              " 'convnext_block_2_23/conv2d_33/bias:0',\n",
              " 'convnext_block_2_23/layer_normalization_33/gamma:0',\n",
              " 'convnext_block_2_23/layer_normalization_33/beta:0',\n",
              " 'convnext_block_2_23/dense_58/kernel:0',\n",
              " 'convnext_block_2_23/dense_58/bias:0',\n",
              " 'convnext_block_2_23/dense_59/kernel:0',\n",
              " 'convnext_block_2_23/dense_59/bias:0',\n",
              " 'Variable:0',\n",
              " 'convnext_block_2_24/conv2d_34/kernel:0',\n",
              " 'convnext_block_2_24/conv2d_34/bias:0',\n",
              " 'convnext_block_2_24/layer_normalization_34/gamma:0',\n",
              " 'convnext_block_2_24/layer_normalization_34/beta:0',\n",
              " 'convnext_block_2_24/dense_60/kernel:0',\n",
              " 'convnext_block_2_24/dense_60/bias:0',\n",
              " 'convnext_block_2_24/dense_61/kernel:0',\n",
              " 'convnext_block_2_24/dense_61/bias:0',\n",
              " 'Variable:0',\n",
              " 'convnext_block_2_25/conv2d_35/kernel:0',\n",
              " 'convnext_block_2_25/conv2d_35/bias:0',\n",
              " 'convnext_block_2_25/layer_normalization_35/gamma:0',\n",
              " 'convnext_block_2_25/layer_normalization_35/beta:0',\n",
              " 'convnext_block_2_25/dense_62/kernel:0',\n",
              " 'convnext_block_2_25/dense_62/bias:0',\n",
              " 'convnext_block_2_25/dense_63/kernel:0',\n",
              " 'convnext_block_2_25/dense_63/bias:0',\n",
              " 'Variable:0',\n",
              " 'convnext_block_2_26/conv2d_36/kernel:0',\n",
              " 'convnext_block_2_26/conv2d_36/bias:0',\n",
              " 'convnext_block_2_26/layer_normalization_36/gamma:0',\n",
              " 'convnext_block_2_26/layer_normalization_36/beta:0',\n",
              " 'convnext_block_2_26/dense_64/kernel:0',\n",
              " 'convnext_block_2_26/dense_64/bias:0',\n",
              " 'convnext_block_2_26/dense_65/kernel:0',\n",
              " 'convnext_block_2_26/dense_65/bias:0',\n",
              " 'Variable:0',\n",
              " 'layer_normalization_3/gamma:0',\n",
              " 'layer_normalization_3/beta:0',\n",
              " 'conv2d_3/kernel:0',\n",
              " 'conv2d_3/bias:0',\n",
              " 'convnext_block_3_0/conv2d_37/kernel:0',\n",
              " 'convnext_block_3_0/conv2d_37/bias:0',\n",
              " 'convnext_block_3_0/layer_normalization_37/gamma:0',\n",
              " 'convnext_block_3_0/layer_normalization_37/beta:0',\n",
              " 'convnext_block_3_0/dense_66/kernel:0',\n",
              " 'convnext_block_3_0/dense_66/bias:0',\n",
              " 'convnext_block_3_0/dense_67/kernel:0',\n",
              " 'convnext_block_3_0/dense_67/bias:0',\n",
              " 'Variable:0',\n",
              " 'convnext_block_3_1/conv2d_38/kernel:0',\n",
              " 'convnext_block_3_1/conv2d_38/bias:0',\n",
              " 'convnext_block_3_1/layer_normalization_38/gamma:0',\n",
              " 'convnext_block_3_1/layer_normalization_38/beta:0',\n",
              " 'convnext_block_3_1/dense_68/kernel:0',\n",
              " 'convnext_block_3_1/dense_68/bias:0',\n",
              " 'convnext_block_3_1/dense_69/kernel:0',\n",
              " 'convnext_block_3_1/dense_69/bias:0',\n",
              " 'Variable:0',\n",
              " 'convnext_block_3_2/conv2d_39/kernel:0',\n",
              " 'convnext_block_3_2/conv2d_39/bias:0',\n",
              " 'convnext_block_3_2/layer_normalization_39/gamma:0',\n",
              " 'convnext_block_3_2/layer_normalization_39/beta:0',\n",
              " 'convnext_block_3_2/dense_70/kernel:0',\n",
              " 'convnext_block_3_2/dense_70/bias:0',\n",
              " 'convnext_block_3_2/dense_71/kernel:0',\n",
              " 'convnext_block_3_2/dense_71/bias:0',\n",
              " 'Variable:0',\n",
              " 'layer_normalization_40/gamma:0',\n",
              " 'layer_normalization_40/beta:0',\n",
              " 'dense/kernel:0',\n",
              " 'dense/bias:0',\n",
              " 'conv2d/kernel:0',\n",
              " 'conv2d/bias:0',\n",
              " 'layer_normalization/gamma:0',\n",
              " 'layer_normalization/beta:0',\n",
              " 'convnext_block_0_0/conv2d_4/kernel:0',\n",
              " 'convnext_block_0_0/conv2d_4/bias:0',\n",
              " 'convnext_block_0_0/layer_normalization_4/gamma:0',\n",
              " 'convnext_block_0_0/layer_normalization_4/beta:0',\n",
              " 'convnext_block_0_0/dense/kernel:0',\n",
              " 'convnext_block_0_0/dense/bias:0',\n",
              " 'convnext_block_0_0/dense_1/kernel:0',\n",
              " 'convnext_block_0_0/dense_1/bias:0',\n",
              " 'Variable:0',\n",
              " 'convnext_block_0_1/conv2d_5/kernel:0',\n",
              " 'convnext_block_0_1/conv2d_5/bias:0',\n",
              " 'convnext_block_0_1/layer_normalization_5/gamma:0',\n",
              " 'convnext_block_0_1/layer_normalization_5/beta:0',\n",
              " 'convnext_block_0_1/dense_2/kernel:0',\n",
              " 'convnext_block_0_1/dense_2/bias:0',\n",
              " 'convnext_block_0_1/dense_3/kernel:0',\n",
              " 'convnext_block_0_1/dense_3/bias:0',\n",
              " 'Variable:0',\n",
              " 'convnext_block_0_2/conv2d_6/kernel:0',\n",
              " 'convnext_block_0_2/conv2d_6/bias:0',\n",
              " 'convnext_block_0_2/layer_normalization_6/gamma:0',\n",
              " 'convnext_block_0_2/layer_normalization_6/beta:0',\n",
              " 'convnext_block_0_2/dense_4/kernel:0',\n",
              " 'convnext_block_0_2/dense_4/bias:0',\n",
              " 'convnext_block_0_2/dense_5/kernel:0',\n",
              " 'convnext_block_0_2/dense_5/bias:0',\n",
              " 'Variable:0',\n",
              " 'layer_normalization_1/gamma:0',\n",
              " 'layer_normalization_1/beta:0',\n",
              " 'conv2d_1/kernel:0',\n",
              " 'conv2d_1/bias:0',\n",
              " 'convnext_block_1_0/conv2d_7/kernel:0',\n",
              " 'convnext_block_1_0/conv2d_7/bias:0',\n",
              " 'convnext_block_1_0/layer_normalization_7/gamma:0',\n",
              " 'convnext_block_1_0/layer_normalization_7/beta:0',\n",
              " 'convnext_block_1_0/dense_6/kernel:0',\n",
              " 'convnext_block_1_0/dense_6/bias:0',\n",
              " 'convnext_block_1_0/dense_7/kernel:0',\n",
              " 'convnext_block_1_0/dense_7/bias:0',\n",
              " 'Variable:0',\n",
              " 'convnext_block_1_1/conv2d_8/kernel:0',\n",
              " 'convnext_block_1_1/conv2d_8/bias:0',\n",
              " 'convnext_block_1_1/layer_normalization_8/gamma:0',\n",
              " 'convnext_block_1_1/layer_normalization_8/beta:0',\n",
              " 'convnext_block_1_1/dense_8/kernel:0',\n",
              " 'convnext_block_1_1/dense_8/bias:0',\n",
              " 'convnext_block_1_1/dense_9/kernel:0',\n",
              " 'convnext_block_1_1/dense_9/bias:0',\n",
              " 'Variable:0',\n",
              " 'convnext_block_1_2/conv2d_9/kernel:0',\n",
              " 'convnext_block_1_2/conv2d_9/bias:0',\n",
              " 'convnext_block_1_2/layer_normalization_9/gamma:0',\n",
              " 'convnext_block_1_2/layer_normalization_9/beta:0',\n",
              " 'convnext_block_1_2/dense_10/kernel:0',\n",
              " 'convnext_block_1_2/dense_10/bias:0',\n",
              " 'convnext_block_1_2/dense_11/kernel:0',\n",
              " 'convnext_block_1_2/dense_11/bias:0',\n",
              " 'Variable:0',\n",
              " 'layer_normalization_2/gamma:0',\n",
              " 'layer_normalization_2/beta:0',\n",
              " 'conv2d_2/kernel:0',\n",
              " 'conv2d_2/bias:0',\n",
              " 'convnext_block_2_0/conv2d_10/kernel:0',\n",
              " 'convnext_block_2_0/conv2d_10/bias:0',\n",
              " 'convnext_block_2_0/layer_normalization_10/gamma:0',\n",
              " 'convnext_block_2_0/layer_normalization_10/beta:0',\n",
              " 'convnext_block_2_0/dense_12/kernel:0',\n",
              " 'convnext_block_2_0/dense_12/bias:0',\n",
              " 'convnext_block_2_0/dense_13/kernel:0',\n",
              " 'convnext_block_2_0/dense_13/bias:0',\n",
              " 'Variable:0',\n",
              " 'convnext_block_2_1/conv2d_11/kernel:0',\n",
              " 'convnext_block_2_1/conv2d_11/bias:0',\n",
              " 'convnext_block_2_1/layer_normalization_11/gamma:0',\n",
              " 'convnext_block_2_1/layer_normalization_11/beta:0',\n",
              " 'convnext_block_2_1/dense_14/kernel:0',\n",
              " 'convnext_block_2_1/dense_14/bias:0',\n",
              " 'convnext_block_2_1/dense_15/kernel:0',\n",
              " 'convnext_block_2_1/dense_15/bias:0',\n",
              " 'Variable:0',\n",
              " 'convnext_block_2_2/conv2d_12/kernel:0',\n",
              " 'convnext_block_2_2/conv2d_12/bias:0',\n",
              " 'convnext_block_2_2/layer_normalization_12/gamma:0',\n",
              " 'convnext_block_2_2/layer_normalization_12/beta:0',\n",
              " 'convnext_block_2_2/dense_16/kernel:0',\n",
              " 'convnext_block_2_2/dense_16/bias:0',\n",
              " 'convnext_block_2_2/dense_17/kernel:0',\n",
              " 'convnext_block_2_2/dense_17/bias:0',\n",
              " 'Variable:0',\n",
              " 'convnext_block_2_3/conv2d_13/kernel:0',\n",
              " 'convnext_block_2_3/conv2d_13/bias:0',\n",
              " 'convnext_block_2_3/layer_normalization_13/gamma:0',\n",
              " 'convnext_block_2_3/layer_normalization_13/beta:0',\n",
              " 'convnext_block_2_3/dense_18/kernel:0',\n",
              " 'convnext_block_2_3/dense_18/bias:0',\n",
              " 'convnext_block_2_3/dense_19/kernel:0',\n",
              " 'convnext_block_2_3/dense_19/bias:0',\n",
              " 'Variable:0',\n",
              " 'convnext_block_2_4/conv2d_14/kernel:0',\n",
              " 'convnext_block_2_4/conv2d_14/bias:0',\n",
              " 'convnext_block_2_4/layer_normalization_14/gamma:0',\n",
              " 'convnext_block_2_4/layer_normalization_14/beta:0',\n",
              " 'convnext_block_2_4/dense_20/kernel:0',\n",
              " 'convnext_block_2_4/dense_20/bias:0',\n",
              " 'convnext_block_2_4/dense_21/kernel:0',\n",
              " 'convnext_block_2_4/dense_21/bias:0',\n",
              " 'Variable:0',\n",
              " 'convnext_block_2_5/conv2d_15/kernel:0',\n",
              " 'convnext_block_2_5/conv2d_15/bias:0',\n",
              " 'convnext_block_2_5/layer_normalization_15/gamma:0',\n",
              " 'convnext_block_2_5/layer_normalization_15/beta:0',\n",
              " 'convnext_block_2_5/dense_22/kernel:0',\n",
              " 'convnext_block_2_5/dense_22/bias:0',\n",
              " 'convnext_block_2_5/dense_23/kernel:0',\n",
              " 'convnext_block_2_5/dense_23/bias:0',\n",
              " 'Variable:0',\n",
              " 'convnext_block_2_6/conv2d_16/kernel:0',\n",
              " 'convnext_block_2_6/conv2d_16/bias:0',\n",
              " 'convnext_block_2_6/layer_normalization_16/gamma:0',\n",
              " 'convnext_block_2_6/layer_normalization_16/beta:0',\n",
              " 'convnext_block_2_6/dense_24/kernel:0',\n",
              " 'convnext_block_2_6/dense_24/bias:0',\n",
              " 'convnext_block_2_6/dense_25/kernel:0',\n",
              " 'convnext_block_2_6/dense_25/bias:0',\n",
              " 'Variable:0',\n",
              " 'convnext_block_2_7/conv2d_17/kernel:0',\n",
              " 'convnext_block_2_7/conv2d_17/bias:0',\n",
              " 'convnext_block_2_7/layer_normalization_17/gamma:0',\n",
              " 'convnext_block_2_7/layer_normalization_17/beta:0',\n",
              " 'convnext_block_2_7/dense_26/kernel:0',\n",
              " 'convnext_block_2_7/dense_26/bias:0',\n",
              " 'convnext_block_2_7/dense_27/kernel:0',\n",
              " 'convnext_block_2_7/dense_27/bias:0',\n",
              " 'Variable:0',\n",
              " 'convnext_block_2_8/conv2d_18/kernel:0',\n",
              " 'convnext_block_2_8/conv2d_18/bias:0',\n",
              " 'convnext_block_2_8/layer_normalization_18/gamma:0',\n",
              " 'convnext_block_2_8/layer_normalization_18/beta:0',\n",
              " 'convnext_block_2_8/dense_28/kernel:0',\n",
              " 'convnext_block_2_8/dense_28/bias:0',\n",
              " 'convnext_block_2_8/dense_29/kernel:0',\n",
              " 'convnext_block_2_8/dense_29/bias:0',\n",
              " 'Variable:0',\n",
              " 'layer_normalization_3/gamma:0',\n",
              " 'layer_normalization_3/beta:0',\n",
              " 'conv2d_3/kernel:0',\n",
              " 'conv2d_3/bias:0',\n",
              " 'convnext_block_3_0/conv2d_19/kernel:0',\n",
              " 'convnext_block_3_0/conv2d_19/bias:0',\n",
              " 'convnext_block_3_0/layer_normalization_19/gamma:0',\n",
              " 'convnext_block_3_0/layer_normalization_19/beta:0',\n",
              " 'convnext_block_3_0/dense_30/kernel:0',\n",
              " 'convnext_block_3_0/dense_30/bias:0',\n",
              " 'convnext_block_3_0/dense_31/kernel:0',\n",
              " 'convnext_block_3_0/dense_31/bias:0',\n",
              " 'Variable:0',\n",
              " 'convnext_block_3_1/conv2d_20/kernel:0',\n",
              " 'convnext_block_3_1/conv2d_20/bias:0',\n",
              " 'convnext_block_3_1/layer_normalization_20/gamma:0',\n",
              " 'convnext_block_3_1/layer_normalization_20/beta:0',\n",
              " 'convnext_block_3_1/dense_32/kernel:0',\n",
              " 'convnext_block_3_1/dense_32/bias:0',\n",
              " 'convnext_block_3_1/dense_33/kernel:0',\n",
              " 'convnext_block_3_1/dense_33/bias:0',\n",
              " 'Variable:0',\n",
              " 'convnext_block_3_2/conv2d_21/kernel:0',\n",
              " 'convnext_block_3_2/conv2d_21/bias:0',\n",
              " 'convnext_block_3_2/layer_normalization_21/gamma:0',\n",
              " 'convnext_block_3_2/layer_normalization_21/beta:0',\n",
              " 'convnext_block_3_2/dense_34/kernel:0',\n",
              " 'convnext_block_3_2/dense_34/bias:0',\n",
              " 'convnext_block_3_2/dense_35/kernel:0',\n",
              " 'convnext_block_3_2/dense_35/bias:0',\n",
              " 'Variable:0',\n",
              " 'layer_normalization_22/gamma:0',\n",
              " 'layer_normalization_22/beta:0',\n",
              " 'dense_1/kernel:0',\n",
              " 'dense_1/bias:0']"
            ]
          },
          "metadata": {},
          "execution_count": 103
        }
      ]
    },
    {
      "cell_type": "markdown",
      "metadata": {
        "id": "u2e5WupIw2N2"
      },
      "source": [
        "## Training the model"
      ]
    },
    {
      "cell_type": "code",
      "execution_count": null,
      "metadata": {
        "id": "DHV7amBgI7HY"
      },
      "outputs": [],
      "source": [
        "ensemble_model.compile(\n",
        "  optimizer=tf.keras.optimizers.SGD(learning_rate=0.001, momentum=0.9, nesterov=False,\n",
        "  name='SGD'), \n",
        "  loss=tf.keras.losses.CategoricalCrossentropy(from_logits=True, label_smoothing=0.1),\n",
        "  metrics=['accuracy'])"
      ]
    },
    {
      "cell_type": "code",
      "execution_count": null,
      "metadata": {
        "colab": {
          "base_uri": "https://localhost:8080/"
        },
        "id": "PLY7yIXNmeiN",
        "outputId": "2f3f6086-2a18-4f31-b6c1-6d8c401cf14f"
      },
      "outputs": [
        {
          "output_type": "stream",
          "name": "stdout",
          "text": [
            "28/28 [==============================] - 166s 4s/step - loss: 0.6755 - accuracy: 0.5737 - val_loss: 0.6891 - val_accuracy: 0.5673\n"
          ]
        }
      ],
      "source": [
        "steps_per_epoch = train_size // BATCH_SIZE\n",
        "validation_steps = valid_size // BATCH_SIZE\n",
        "\n",
        "hist = ensemble_model.fit(\n",
        "    train_ds,\n",
        "    epochs=50, steps_per_epoch=steps_per_epoch,\n",
        "    validation_data=val_ds,\n",
        "    validation_steps=validation_steps)"
      ]
    },
    {
      "cell_type": "code",
      "execution_count": null,
      "metadata": {
        "colab": {
          "base_uri": "https://localhost:8080/"
        },
        "id": "Y9quLqjoDnER",
        "outputId": "27622216-0a49-43e1-a0c4-db35d2b3d968"
      },
      "outputs": [
        {
          "output_type": "stream",
          "name": "stdout",
          "text": [
            "13/13 [==============================] - 3s 194ms/step - loss: 0.3462 - accuracy: 0.9375\n"
          ]
        }
      ],
      "source": [
        "ev = ensemble_model.evaluate(test_ds)"
      ]
    },
    {
      "cell_type": "markdown",
      "metadata": {
        "id": "o0zWCm61HVPv"
      },
      "source": [
        "### Run this only for Convnext and ViT since it cannot use the WandB callbacks during fit"
      ]
    },
    {
      "cell_type": "code",
      "execution_count": null,
      "metadata": {
        "colab": {
          "base_uri": "https://localhost:8080/",
          "height": 71
        },
        "id": "GHnzgBvvi-Fu",
        "outputId": "b696ea98-d830-4178-f07b-ebad032a711a"
      },
      "outputs": [
        {
          "output_type": "execute_result",
          "data": {
            "text/plain": [
              "'           \"epochs\": xs,\\n           \"accuracy\": hist.history[\\'accuracy\\'],\\n           \"val_loss\": hist.history[\\'val_loss\\'],\\n           \"val_accuracy\": hist.history[\\'val_accuracy\\']})'"
            ],
            "application/vnd.google.colaboratory.intrinsic+json": {
              "type": "string"
            }
          },
          "metadata": {},
          "execution_count": 152
        }
      ],
      "source": [
        "num_steps = hist.params['epochs']\n",
        "xs = [ i for i in range(num_steps) ]\n",
        "#wandb.log({'loss': 0.2}, step=step)\n",
        "\n",
        "#wandb.log({\"loss1\": hist.history['loss']},  step=num_steps)\n",
        "for i in xs:\n",
        "  log_dict = {\n",
        "      \"loss\": hist.history['loss'][i],\n",
        "      \"epoch\": i,\n",
        "  }\n",
        "  wandb.log(log_dict)\n",
        "\n",
        "for i in xs:\n",
        "  log_dict = {\n",
        "      \"val_loss\": hist.history['val_loss'][i],\n",
        "      \"epoch\": i,\n",
        "  }\n",
        "  wandb.log(log_dict)\n",
        "\n",
        "\n",
        "for i in xs:\n",
        "  log_dict = {\n",
        "      \"accuracy\": hist.history['accuracy'][i],\n",
        "      \"epoch\": i,\n",
        "  }\n",
        "  wandb.log(log_dict)\n",
        "\n",
        "for i in xs:\n",
        "  log_dict = {\n",
        "      \"val_accuracy\": hist.history['val_accuracy'][i],\n",
        "      \"epoch\": i,\n",
        "  }\n",
        "  wandb.log(log_dict)\n",
        "\n",
        "\"\"\"           \"epochs\": xs,\n",
        "           \"accuracy\": hist.history['accuracy'],\n",
        "           \"val_loss\": hist.history['val_loss'],\n",
        "           \"val_accuracy\": hist.history['val_accuracy']})\"\"\""
      ]
    },
    {
      "cell_type": "markdown",
      "metadata": {
        "id": "jZ8DKKgeKv4-"
      },
      "source": [
        "Try out the model on an image from the validation data:"
      ]
    },
    {
      "cell_type": "markdown",
      "metadata": {
        "id": "DKgV1ZKvHim5"
      },
      "source": [
        "### Continue as usual "
      ]
    },
    {
      "cell_type": "code",
      "execution_count": null,
      "metadata": {
        "colab": {
          "base_uri": "https://localhost:8080/",
          "height": 321
        },
        "id": "oi1iCNB9K1Ai",
        "outputId": "8c4a183e-5c58-4284-92c0-7d9bc48ac957"
      },
      "outputs": [
        {
          "output_type": "stream",
          "name": "stderr",
          "text": [
            "WARNING:matplotlib.image:Clipping input data to the valid range for imshow with RGB data ([0..1] for floats or [0..255] for integers).\n"
          ]
        },
        {
          "output_type": "display_data",
          "data": {
            "text/plain": [
              "<Figure size 432x288 with 1 Axes>"
            ],
            "image/png": "[encoded data removed]"
          },
          "metadata": {
            "needs_background": "light"
          }
        },
        {
          "output_type": "stream",
          "name": "stdout",
          "text": [
            "True label: adenom\n",
            "Predicted label: adenom\n"
          ]
        }
      ],
      "source": [
        "x, y = next(iter(test_ds))\n",
        "image = x[2, :, :, :]\n",
        "true_index = np.argmax(y[5])\n",
        "plt.imshow(image)\n",
        "plt.axis('off')\n",
        "plt.show()\n",
        "\n",
        "# Expand the validation image to (1, 224, 224, 3) before predicting the label\n",
        "prediction_scores = model.predict(np.expand_dims(image, axis=0))\n",
        "predicted_index = np.argmax(prediction_scores)\n",
        "print(\"True label: \" + class_names[true_index])\n",
        "print(\"Predicted label: \" + class_names[predicted_index])"
      ]
    },
    {
      "cell_type": "markdown",
      "metadata": {
        "id": "YCsAsQM1IRvA"
      },
      "source": [
        "Finally, the trained model can be saved for deployment to TF Serving or TFLite (on mobile) as follows."
      ]
    },
    {
      "cell_type": "code",
      "execution_count": null,
      "metadata": {
        "colab": {
          "base_uri": "https://localhost:8080/"
        },
        "id": "s5_xHUxgSeBT",
        "outputId": "4da0c205-f1e2-427f-f875-7751ea41a4c1"
      },
      "outputs": [
        {
          "output_type": "stream",
          "name": "stdout",
          "text": [
            "13/13 [==============================] - 3s 208ms/step - loss: 0.4382 - accuracy: 0.8510\n"
          ]
        }
      ],
      "source": [
        "ev = ensemble_model.evaluate(val_ds)"
      ]
    },
    {
      "cell_type": "code",
      "execution_count": null,
      "metadata": {
        "colab": {
          "base_uri": "https://localhost:8080/"
        },
        "id": "mNeuPxx1hIL9",
        "outputId": "9e04644f-8f2c-4aec-a52a-f12f5f10d5d0"
      },
      "outputs": [
        {
          "output_type": "stream",
          "name": "stdout",
          "text": [
            "Collecting scikit-learn==0.23.2\n",
            "  Downloading scikit_learn-0.23.2-cp37-cp37m-manylinux1_x86_64.whl (6.8 MB)\n",
            "\u001b[K     |████████████████████████████████| 6.8 MB 15.5 MB/s \n",
            "\u001b[?25hRequirement already satisfied: joblib>=0.11 in /usr/local/lib/python3.7/dist-packages (from scikit-learn==0.23.2) (1.1.0)\n",
            "Requirement already satisfied: threadpoolctl>=2.0.0 in /usr/local/lib/python3.7/dist-packages (from scikit-learn==0.23.2) (3.1.0)\n",
            "Requirement already satisfied: scipy>=0.19.1 in /usr/local/lib/python3.7/dist-packages (from scikit-learn==0.23.2) (1.4.1)\n",
            "Requirement already satisfied: numpy>=1.13.3 in /usr/local/lib/python3.7/dist-packages (from scikit-learn==0.23.2) (1.21.6)\n",
            "Installing collected packages: scikit-learn\n",
            "  Attempting uninstall: scikit-learn\n",
            "    Found existing installation: scikit-learn 1.0.2\n",
            "    Uninstalling scikit-learn-1.0.2:\n",
            "      Successfully uninstalled scikit-learn-1.0.2\n",
            "\u001b[31mERROR: pip's dependency resolver does not currently take into account all the packages that are installed. This behaviour is the source of the following dependency conflicts.\n",
            "yellowbrick 1.4 requires scikit-learn>=1.0.0, but you have scikit-learn 0.23.2 which is incompatible.\n",
            "imbalanced-learn 0.8.1 requires scikit-learn>=0.24, but you have scikit-learn 0.23.2 which is incompatible.\u001b[0m\n",
            "Successfully installed scikit-learn-0.23.2\n",
            "Collecting keract\n",
            "  Downloading keract-4.5.0-py2.py3-none-any.whl (12 kB)\n",
            "Installing collected packages: keract\n",
            "Successfully installed keract-4.5.0\n"
          ]
        }
      ],
      "source": [
        "!pip install scikit-learn==0.23.2\n",
        "!pip install keract\n"
      ]
    },
    {
      "cell_type": "markdown",
      "metadata": {
        "id": "2WasZlZQzXrh"
      },
      "source": [
        "## Confusion Martix\n",
        "\n",
        "\n",
        "---\n",
        "\n"
      ]
    },
    {
      "cell_type": "code",
      "execution_count": null,
      "metadata": {
        "colab": {
          "base_uri": "https://localhost:8080/",
          "height": 71
        },
        "id": "CHzSpL7PzXrj",
        "outputId": "a34baeea-1140-42e3-8059-ffeb7b3a0eb5"
      },
      "outputs": [
        {
          "output_type": "execute_result",
          "data": {
            "text/plain": [
              "'wandb.log({\"conf_mat\" : wandb.plot.confusion_matrix(probs=None,\\n                        preds=top_pred_ids, y_true=ground_truth_class_ids,\\n                        class_names=flat_class_names)})'"
            ],
            "application/vnd.google.colaboratory.intrinsic+json": {
              "type": "string"
            }
          },
          "metadata": {},
          "execution_count": 159
        }
      ],
      "source": [
        "##The confusion matrix\n",
        "\n",
        "flat_class_names = [k for k in class_names]\n",
        "test_ds, test_labels = next(iter(test_ds))\n",
        "test_ds, test_labels = zip(*((x,y) for x,y in val_ds))\n",
        "test_ds, test_labels = np.vstack(test_ds), np.vstack(test_labels)\n",
        "\n",
        "test_predictions = ensemble_model.predict(test_ds)\n",
        "ground_truth_class_ids = test_labels.argmax(axis=1)\n",
        "# take the argmax for each set of prediction scores\n",
        "# to return the class id of the highest confidence prediction\n",
        "top_pred_ids = test_predictions.argmax(axis=1)\n",
        "\n",
        "# Log confusion matrix\n",
        "# the key \"conf_mat\" is the id of the plot--do not change\n",
        "# this if you want subsequent runs to show up on the same plot\n",
        "\"\"\"wandb.log({\"conf_mat\" : wandb.plot.confusion_matrix(probs=None,\n",
        "                        preds=top_pred_ids, y_true=ground_truth_class_ids,\n",
        "                        class_names=flat_class_names)})\"\"\""
      ]
    },
    {
      "cell_type": "code",
      "execution_count": null,
      "metadata": {
        "colab": {
          "base_uri": "https://localhost:8080/"
        },
        "id": "xaKUH0XSzXrj",
        "outputId": "2d4fd8f6-9f5d-4a0d-b73a-7aee67269785"
      },
      "outputs": [
        {
          "output_type": "execute_result",
          "data": {
            "text/plain": [
              "<tf.Tensor: shape=(1,), dtype=int32, numpy=array([208], dtype=int32)>"
            ]
          },
          "metadata": {},
          "execution_count": 160
        }
      ],
      "source": [
        "tf.shape(ground_truth_class_ids)"
      ]
    },
    {
      "cell_type": "code",
      "execution_count": null,
      "metadata": {
        "id": "e2ewR9ADzXrj"
      },
      "outputs": [],
      "source": [
        "# ROC \n",
        "wandb.log({\"roc\" : wandb.plot.roc_curve(ground_truth_class_ids, val_predictions, labels=flat_class_names, classes_to_plot=None)})\n"
      ]
    },
    {
      "cell_type": "code",
      "execution_count": null,
      "metadata": {
        "id": "vDXI_YHEzXrj"
      },
      "outputs": [],
      "source": [
        "wandb.log({\"roc_curve\" : wandb.plot.roc_curve(ground_truth_class_ids, val_predictions, labels=flat_class_names)})"
      ]
    },
    {
      "cell_type": "code",
      "execution_count": null,
      "metadata": {
        "id": "OvN-5X7AzXrk"
      },
      "outputs": [],
      "source": [
        "# ROC\n",
        "wandb.log({\"pr\" : wandb.plot.pr_curve(ground_truth_class_ids, val_predictions,labels=flat_class_names, classes_to_plot=None)})"
      ]
    },
    {
      "cell_type": "code",
      "execution_count": null,
      "metadata": {
        "id": "YAOmvILdzXrk"
      },
      "outputs": [],
      "source": [
        "# Learning Curve\n",
        "#wandb.sklearn.plot_learning_curve(nb, X_test, y_test)\n",
        "\n",
        "y_pred = top_pred_ids.reshape(1,-1)\n",
        "y_test = ground_truth_class_ids.reshape(1,-1)\n",
        "# Confusion Matrix\n",
        "#wandb.sklearn.plot_confusion_matrix(y_test.argmax(axis=1), y_pred.argmax(axis=1), labels=flat_class_names)"
      ]
    },
    {
      "cell_type": "code",
      "execution_count": null,
      "metadata": {
        "id": "Tio6KIQxzXrk"
      },
      "outputs": [],
      "source": [
        "wandb.sklearn.plot_confusion_matrix(top_pred_ids, ground_truth_class_ids, labels=flat_class_names)"
      ]
    },
    {
      "cell_type": "code",
      "execution_count": null,
      "metadata": {
        "colab": {
          "base_uri": "https://localhost:8080/",
          "height": 279
        },
        "id": "voUTE_yozXrk",
        "outputId": "f6c9f332-f279-40f3-9259-88382a521429"
      },
      "outputs": [
        {
          "output_type": "display_data",
          "data": {
            "text/plain": [
              "<Figure size 432x288 with 2 Axes>"
            ],
            "image/png": "[encoded data removed]"
          },
          "metadata": {
            "needs_background": "light"
          }
        }
      ],
      "source": [
        "from sklearn.metrics import confusion_matrix, ConfusionMatrixDisplay\n",
        "import matplotlib.pyplot as plt\n",
        "\n",
        "cm = confusion_matrix(top_pred_ids, ground_truth_class_ids)\n",
        "disp = ConfusionMatrixDisplay(confusion_matrix=cm,display_labels=flat_class_names)\n",
        "disp.plot()\n",
        "plt.show()\n",
        "#wandb.log({'heatmap_with_text': wandb.plots.HeatMap(flat_class_names, flat_class_names, cm, show_text=False)})"
      ]
    }
  ],
  "metadata": {
    "accelerator": "GPU",
    "colab": {
      "machine_shape": "hm",
      "provenance": [],
      "toc_visible": true,
      "include_colab_link": true
    },
    "kernelspec": {
      "display_name": "Python 3",
      "name": "python3"
    }
  },
  "nbformat": 4,
  "nbformat_minor": 0
}